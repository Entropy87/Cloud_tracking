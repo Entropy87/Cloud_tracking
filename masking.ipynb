{
 "cells": [
  {
   "cell_type": "code",
   "execution_count": 2,
   "metadata": {},
   "outputs": [],
   "source": [
    "# This is how I applied a binary mask on the images then from the build the dataset \n",
    "# Bad coding practice I know but just comment out training once your done generating the mask and move on to uncommenting test and so on\n",
    "\n",
    "import cv2\n",
    "import os\n",
    "\n",
    "# For training masking \n",
    "input_dir = 'train/images/'\n",
    "output_dir = 'Annotated/train'\n",
    "\n",
    "#For test masking\n",
    "#input_dir = 'test/images/'\n",
    "#output_dir = 'Annotated/test'\n",
    "\n",
    "#For valid masking\n",
    "#input_dir = '/images/'\n",
    "#output_dir = 'Annotated/valid'\n",
    "\n",
    "\n",
    "# Create the output directory if it doesn't exist\n",
    "if not os.path.exists(output_dir):\n",
    "    os.makedirs(output_dir)\n",
    "\n",
    "# Process each image in the input directory\n",
    "for filename in os.listdir(input_dir):\n",
    "    if filename.endswith('.jpg') or filename.endswith('.png'):\n",
    "        # Full path to the input image\n",
    "        image_path = os.path.join(input_dir, filename)\n",
    "\n",
    "        # Read the image\n",
    "        image = cv2.imread(image_path)\n",
    "\n",
    "        # Convert to grayscale\n",
    "        gray = cv2.cvtColor(image, cv2.COLOR_BGR2GRAY)\n",
    "\n",
    "        # Apply thresholding to create a binary mask\n",
    "        _, binary_mask = cv2.threshold(gray, 127, 255, cv2.THRESH_BINARY)\n",
    "\n",
    "        # Create the output file path\n",
    "        output_path = os.path.join(output_dir, filename)\n",
    "\n",
    "        # Save the binary mask to the output directory\n",
    "        cv2.imwrite(output_path, binary_mask)\n",
    "\n"
   ]
  },
  {
   "cell_type": "code",
   "execution_count": 4,
   "metadata": {},
   "outputs": [
    {
     "ename": "TypeError",
     "evalue": "'<=' not supported between instances of 'NoneType' and 'int'",
     "output_type": "error",
     "traceback": [
      "\u001b[1;31m---------------------------------------------------------------------------\u001b[0m",
      "\u001b[1;31mTypeError\u001b[0m                                 Traceback (most recent call last)",
      "Cell \u001b[1;32mIn[4], line 19\u001b[0m\n\u001b[0;32m     16\u001b[0m thresh_combined \u001b[38;5;241m=\u001b[39m np\u001b[38;5;241m.\u001b[39mzeros_like(image)\n\u001b[0;32m     18\u001b[0m \u001b[38;5;66;03m# Set pixels based on thresholds\u001b[39;00m\n\u001b[1;32m---> 19\u001b[0m thresh_combined[(\u001b[43mimage\u001b[49m\u001b[43m \u001b[49m\u001b[38;5;241;43m<\u001b[39;49m\u001b[38;5;241;43m=\u001b[39;49m\u001b[43m \u001b[49m\u001b[43mthreshold1\u001b[49m)] \u001b[38;5;241m=\u001b[39m \u001b[38;5;241m0\u001b[39m\n\u001b[0;32m     20\u001b[0m thresh_combined[(image \u001b[38;5;241m>\u001b[39m threshold1) \u001b[38;5;241m&\u001b[39m (image \u001b[38;5;241m<\u001b[39m\u001b[38;5;241m=\u001b[39m threshold2)] \u001b[38;5;241m=\u001b[39m \u001b[38;5;241m127\u001b[39m\n\u001b[0;32m     21\u001b[0m thresh_combined[(image \u001b[38;5;241m>\u001b[39m threshold2)] \u001b[38;5;241m=\u001b[39m \u001b[38;5;241m255\u001b[39m\n",
      "\u001b[1;31mTypeError\u001b[0m: '<=' not supported between instances of 'NoneType' and 'int'"
     ]
    }
   ],
   "source": [
    "import cv2\n",
    "import numpy as np\n",
    "\n",
    "# Load the image\n",
    "image = cv2.imread('cloud.png', cv2.IMREAD_GRAYSCALE)\n",
    "\n",
    "# Define thresholds\n",
    "threshold1 = 50\n",
    "threshold2 = 150\n",
    "\n",
    "# Apply thresholding\n",
    "_, thresh1 = cv2.threshold(image, threshold1, 255, cv2.THRESH_BINARY)\n",
    "_, thresh2 = cv2.threshold(image, threshold2, 255, cv2.THRESH_BINARY)\n",
    "\n",
    "# Create an image to combine the thresholds\n",
    "thresh_combined = np.zeros_like(image)\n",
    "\n",
    "# Set pixels based on thresholds\n",
    "thresh_combined[(image <= threshold1)] = 0\n",
    "thresh_combined[(image > threshold1) & (image <= threshold2)] = 127\n",
    "thresh_combined[(image > threshold2)] = 255\n",
    "\n",
    "# Save or display the result\n",
    "cv2.imwrite('thresholded_image.png', thresh_combined)\n",
    "cv2.imshow('Thresholded Image', thresh_combined)\n",
    "cv2.waitKey(0)\n",
    "cv2.destroyAllWindows()\n"
   ]
  }
 ],
 "metadata": {
  "kernelspec": {
   "display_name": "Python 3",
   "language": "python",
   "name": "python3"
  },
  "language_info": {
   "codemirror_mode": {
    "name": "ipython",
    "version": 3
   },
   "file_extension": ".py",
   "mimetype": "text/x-python",
   "name": "python",
   "nbconvert_exporter": "python",
   "pygments_lexer": "ipython3",
   "version": "3.11.3"
  }
 },
 "nbformat": 4,
 "nbformat_minor": 2
}
